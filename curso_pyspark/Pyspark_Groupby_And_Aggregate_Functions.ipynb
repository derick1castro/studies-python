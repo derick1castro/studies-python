{
  "nbformat": 4,
  "nbformat_minor": 0,
  "metadata": {
    "colab": {
      "provenance": []
    },
    "kernelspec": {
      "name": "python3",
      "display_name": "Python 3"
    },
    "language_info": {
      "name": "python"
    }
  },
  "cells": [
    {
      "cell_type": "markdown",
      "source": [
        "**Pyspark Groupby And Aggregate Functions.ipynb**\n"
      ],
      "metadata": {
        "id": "qIzZtl49DV93"
      }
    },
    {
      "cell_type": "code",
      "source": [
        "!pip install pyspark\n",
        "import pyspark"
      ],
      "metadata": {
        "id": "nrdfil0TDZiL"
      },
      "execution_count": null,
      "outputs": []
    },
    {
      "cell_type": "code",
      "source": [
        "from pyspark.sql import SparkSession\n",
        "from pyspark.sql import functions as F\n",
        "spark=SparkSession.builder.appName('Agg').getOrCreate()"
      ],
      "metadata": {
        "id": "q9cHu3HDDbX1"
      },
      "execution_count": 20,
      "outputs": []
    },
    {
      "cell_type": "code",
      "source": [
        "df_pyspark=spark.read.csv(\"test5.csv\", header=True, inferSchema=True)"
      ],
      "metadata": {
        "id": "FM635mVdDbce"
      },
      "execution_count": 4,
      "outputs": []
    },
    {
      "cell_type": "code",
      "source": [
        "df_pyspark.show()"
      ],
      "metadata": {
        "colab": {
          "base_uri": "https://localhost:8080/"
        },
        "id": "VmlVLc_UDbgy",
        "outputId": "70f4223f-241a-4438-bdce-7cf70b7010f2"
      },
      "execution_count": 5,
      "outputs": [
        {
          "output_type": "stream",
          "name": "stdout",
          "text": [
            "+---------+------------+------+\n",
            "|     Name| Departments|Salary|\n",
            "+---------+------------+------+\n",
            "|    Krish|         IOT| 10000|\n",
            "|    Krish|Data Science| 30000|\n",
            "|Sudhanshu|    Big Data| 25000|\n",
            "|    Sunny|    Big Data| 20000|\n",
            "|     Paul|    Big Data| 20000|\n",
            "|   Harsha|    Big Data| 15000|\n",
            "|  Shubham|         IOT| 18000|\n",
            "|Sudhanshu|Data Science|  5000|\n",
            "|   Mahesh|         IOT|  1000|\n",
            "+---------+------------+------+\n",
            "\n"
          ]
        }
      ]
    },
    {
      "cell_type": "code",
      "source": [
        "df_pyspark.printSchema()"
      ],
      "metadata": {
        "colab": {
          "base_uri": "https://localhost:8080/"
        },
        "id": "QKCFKm_oDblf",
        "outputId": "753f0570-84f1-4caf-e8c3-3d0397bd9fa2"
      },
      "execution_count": 6,
      "outputs": [
        {
          "output_type": "stream",
          "name": "stdout",
          "text": [
            "root\n",
            " |-- Name: string (nullable = true)\n",
            " |-- Departments: string (nullable = true)\n",
            " |-- Salary: integer (nullable = true)\n",
            "\n"
          ]
        }
      ]
    },
    {
      "cell_type": "code",
      "source": [
        "## Groupby\n",
        "## Goruped to find the maximum salary\n",
        "df_pyspark.groupBy('Name').sum().show()"
      ],
      "metadata": {
        "colab": {
          "base_uri": "https://localhost:8080/"
        },
        "id": "9aJ4sdVMFhMp",
        "outputId": "d09cdb57-7b50-4c35-ffec-d10d2c864fd9"
      },
      "execution_count": 9,
      "outputs": [
        {
          "output_type": "stream",
          "name": "stdout",
          "text": [
            "+---------+-----------+\n",
            "|     Name|sum(Salary)|\n",
            "+---------+-----------+\n",
            "|Sudhanshu|      30000|\n",
            "|    Sunny|      20000|\n",
            "|    Krish|      40000|\n",
            "|   Harsha|      15000|\n",
            "|     Paul|      20000|\n",
            "|  Shubham|      18000|\n",
            "|   Mahesh|       1000|\n",
            "+---------+-----------+\n",
            "\n"
          ]
        }
      ]
    },
    {
      "cell_type": "code",
      "source": [
        "df_pyspark=df_pyspark.groupBy('Name').max().orderBy(F.desc('max(Salary)')).show()"
      ],
      "metadata": {
        "colab": {
          "base_uri": "https://localhost:8080/"
        },
        "id": "9O3DwhdHPPWu",
        "outputId": "4779011b-cd99-41af-8dce-c92f8a59d78b"
      },
      "execution_count": 22,
      "outputs": [
        {
          "output_type": "stream",
          "name": "stdout",
          "text": [
            "+---------+-----------+\n",
            "|     Name|max(Salary)|\n",
            "+---------+-----------+\n",
            "|    Krish|      30000|\n",
            "|Sudhanshu|      25000|\n",
            "|    Sunny|      20000|\n",
            "|     Paul|      20000|\n",
            "|  Shubham|      18000|\n",
            "|   Harsha|      15000|\n",
            "|   Mahesh|       1000|\n",
            "+---------+-----------+\n",
            "\n"
          ]
        }
      ]
    },
    {
      "cell_type": "code",
      "source": [
        "### Groupby Department which gives maximum salary\n",
        "df_pyspark.groupBy('Departments').sum().show()"
      ],
      "metadata": {
        "colab": {
          "base_uri": "https://localhost:8080/"
        },
        "id": "OqoTgQe5FhRo",
        "outputId": "4893e218-67b2-4544-e56a-296dff1ed610"
      },
      "execution_count": 11,
      "outputs": [
        {
          "output_type": "stream",
          "name": "stdout",
          "text": [
            "+------------+-----------+\n",
            "| Departments|sum(Salary)|\n",
            "+------------+-----------+\n",
            "|         IOT|      29000|\n",
            "|    Big Data|      80000|\n",
            "|Data Science|      35000|\n",
            "+------------+-----------+\n",
            "\n"
          ]
        }
      ]
    },
    {
      "cell_type": "code",
      "source": [
        "df_pyspark.groupBy('Departments').mean().show()"
      ],
      "metadata": {
        "colab": {
          "base_uri": "https://localhost:8080/"
        },
        "id": "XX3bsqvhFhVv",
        "outputId": "6924cd53-5424-4e39-96ab-9cdf314049d6"
      },
      "execution_count": 12,
      "outputs": [
        {
          "output_type": "stream",
          "name": "stdout",
          "text": [
            "+------------+-----------------+\n",
            "| Departments|      avg(Salary)|\n",
            "+------------+-----------------+\n",
            "|         IOT|9666.666666666666|\n",
            "|    Big Data|          20000.0|\n",
            "|Data Science|          17500.0|\n",
            "+------------+-----------------+\n",
            "\n"
          ]
        }
      ]
    },
    {
      "cell_type": "code",
      "source": [
        "df_pyspark.groupBy('Departments').count().show()"
      ],
      "metadata": {
        "colab": {
          "base_uri": "https://localhost:8080/"
        },
        "id": "Ey4YoEqGDbpy",
        "outputId": "f642163e-5c7d-4fc7-86cd-0e64e6f54487"
      },
      "execution_count": 13,
      "outputs": [
        {
          "output_type": "stream",
          "name": "stdout",
          "text": [
            "+------------+-----+\n",
            "| Departments|count|\n",
            "+------------+-----+\n",
            "|         IOT|    3|\n",
            "|    Big Data|    4|\n",
            "|Data Science|    2|\n",
            "+------------+-----+\n",
            "\n"
          ]
        }
      ]
    },
    {
      "cell_type": "code",
      "source": [
        "df_pyspark.agg({'Salary': 'sum'}).show()"
      ],
      "metadata": {
        "colab": {
          "base_uri": "https://localhost:8080/"
        },
        "id": "w7tssHkqOaIK",
        "outputId": "b457f54e-902f-4529-9fc1-7328547e377a"
      },
      "execution_count": 15,
      "outputs": [
        {
          "output_type": "stream",
          "name": "stdout",
          "text": [
            "+-----------+\n",
            "|sum(Salary)|\n",
            "+-----------+\n",
            "|     144000|\n",
            "+-----------+\n",
            "\n"
          ]
        }
      ]
    },
    {
      "cell_type": "code",
      "source": [],
      "metadata": {
        "id": "Bgz_xPhdDb3c"
      },
      "execution_count": null,
      "outputs": []
    }
  ]
}