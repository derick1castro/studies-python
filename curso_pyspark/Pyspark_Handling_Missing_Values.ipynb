{
  "nbformat": 4,
  "nbformat_minor": 0,
  "metadata": {
    "colab": {
      "provenance": []
    },
    "kernelspec": {
      "name": "python3",
      "display_name": "Python 3"
    },
    "language_info": {
      "name": "python"
    }
  },
  "cells": [
    {
      "cell_type": "markdown",
      "source": [
        "**Pyspark Handling Missing Values**\n",
        "\n",
        "*   Dropping Columns\n",
        "*   Dropping Rows\n",
        "*   Various Parametes In Dropping functionalities\n",
        "*   Handling Missing values by Mean, Median and Mode\n",
        "\n"
      ],
      "metadata": {
        "id": "2jKqer7tBx69"
      }
    },
    {
      "cell_type": "code",
      "execution_count": null,
      "metadata": {
        "id": "G9SbeYD_BqOP"
      },
      "outputs": [],
      "source": [
        "!pip install pyspark\n",
        "import pyspark"
      ]
    },
    {
      "cell_type": "code",
      "source": [
        "from pyspark.sql import SparkSession\n",
        "spark=SparkSession.builder.appName('Practise').getOrCreate()"
      ],
      "metadata": {
        "id": "JDhqVvB1BueW"
      },
      "execution_count": 2,
      "outputs": []
    },
    {
      "cell_type": "code",
      "source": [
        "df_pyspark=spark.read.csv('test3.csv', header=True, inferSchema=True)"
      ],
      "metadata": {
        "id": "nB_dWkNrBuie"
      },
      "execution_count": 5,
      "outputs": []
    },
    {
      "cell_type": "code",
      "source": [
        "df_pyspark.show()"
      ],
      "metadata": {
        "colab": {
          "base_uri": "https://localhost:8080/"
        },
        "id": "ioBc2g6iBumt",
        "outputId": "fe70d6a8-5aeb-4c6e-9409-b0d49f69ae42"
      },
      "execution_count": 6,
      "outputs": [
        {
          "output_type": "stream",
          "name": "stdout",
          "text": [
            "+---------+----+----------+------+\n",
            "|     Name| age|Experience|Salary|\n",
            "+---------+----+----------+------+\n",
            "|   Dérick|  27|        10| 30000|\n",
            "|    Jamal|   3|         8| 25000|\n",
            "|Cleidiane|  32|         4|  2000|\n",
            "|    Sonia|  32|        21| 20000|\n",
            "|    Maura|  44|         4| 15000|\n",
            "|    Edson|  54|         5| 18000|\n",
            "|    Leona|NULL|      NULL| 40000|\n",
            "|     NULL|  33|        10| 38000|\n",
            "|     NULL|  43|      NULL|  NULL|\n",
            "+---------+----+----------+------+\n",
            "\n"
          ]
        }
      ]
    },
    {
      "cell_type": "code",
      "source": [
        "### drop the columns\n",
        "df_pyspark.drop('Name').show()"
      ],
      "metadata": {
        "colab": {
          "base_uri": "https://localhost:8080/"
        },
        "id": "9ZDBN9omBurn",
        "outputId": "d9763004-69e5-4293-e922-22d7863787dd"
      },
      "execution_count": 8,
      "outputs": [
        {
          "output_type": "stream",
          "name": "stdout",
          "text": [
            "+----+----------+------+\n",
            "| age|Experience|Salary|\n",
            "+----+----------+------+\n",
            "|  27|        10| 30000|\n",
            "|   3|         8| 25000|\n",
            "|  32|         4|  2000|\n",
            "|  32|        21| 20000|\n",
            "|  44|         4| 15000|\n",
            "|  54|         5| 18000|\n",
            "|NULL|      NULL| 40000|\n",
            "|  33|        10| 38000|\n",
            "|  43|      NULL|  NULL|\n",
            "+----+----------+------+\n",
            "\n"
          ]
        }
      ]
    },
    {
      "cell_type": "code",
      "source": [
        "df_pyspark.show()"
      ],
      "metadata": {
        "colab": {
          "base_uri": "https://localhost:8080/"
        },
        "id": "uHdkhu06BuwA",
        "outputId": "95764727-ce6a-41f9-9e70-e1ed5536e6ab"
      },
      "execution_count": 9,
      "outputs": [
        {
          "output_type": "stream",
          "name": "stdout",
          "text": [
            "+---------+----+----------+------+\n",
            "|     Name| age|Experience|Salary|\n",
            "+---------+----+----------+------+\n",
            "|   Dérick|  27|        10| 30000|\n",
            "|    Jamal|   3|         8| 25000|\n",
            "|Cleidiane|  32|         4|  2000|\n",
            "|    Sonia|  32|        21| 20000|\n",
            "|    Maura|  44|         4| 15000|\n",
            "|    Edson|  54|         5| 18000|\n",
            "|    Leona|NULL|      NULL| 40000|\n",
            "|     NULL|  33|        10| 38000|\n",
            "|     NULL|  43|      NULL|  NULL|\n",
            "+---------+----+----------+------+\n",
            "\n"
          ]
        }
      ]
    },
    {
      "cell_type": "code",
      "source": [
        "df_pyspark.na.drop().show()"
      ],
      "metadata": {
        "colab": {
          "base_uri": "https://localhost:8080/"
        },
        "id": "MDcVHvTBBu0m",
        "outputId": "74eb9100-1725-40ae-8df2-c0ffa1b86f62"
      },
      "execution_count": 10,
      "outputs": [
        {
          "output_type": "stream",
          "name": "stdout",
          "text": [
            "+---------+---+----------+------+\n",
            "|     Name|age|Experience|Salary|\n",
            "+---------+---+----------+------+\n",
            "|   Dérick| 27|        10| 30000|\n",
            "|    Jamal|  3|         8| 25000|\n",
            "|Cleidiane| 32|         4|  2000|\n",
            "|    Sonia| 32|        21| 20000|\n",
            "|    Maura| 44|         4| 15000|\n",
            "|    Edson| 54|         5| 18000|\n",
            "+---------+---+----------+------+\n",
            "\n"
          ]
        }
      ]
    },
    {
      "cell_type": "code",
      "source": [
        "### aby==how\n",
        "df_pyspark.na.drop(how='any').show()"
      ],
      "metadata": {
        "colab": {
          "base_uri": "https://localhost:8080/"
        },
        "id": "_z9X1JKXBu5p",
        "outputId": "e3dabbf6-5310-4be2-aa12-655008a35114"
      },
      "execution_count": 12,
      "outputs": [
        {
          "output_type": "stream",
          "name": "stdout",
          "text": [
            "+---------+---+----------+------+\n",
            "|     Name|age|Experience|Salary|\n",
            "+---------+---+----------+------+\n",
            "|   Dérick| 27|        10| 30000|\n",
            "|    Jamal|  3|         8| 25000|\n",
            "|Cleidiane| 32|         4|  2000|\n",
            "|    Sonia| 32|        21| 20000|\n",
            "|    Maura| 44|         4| 15000|\n",
            "|    Edson| 54|         5| 18000|\n",
            "+---------+---+----------+------+\n",
            "\n"
          ]
        }
      ]
    },
    {
      "cell_type": "code",
      "source": [
        "## threshold\n",
        "df_pyspark.na.drop(how='any', thresh=2).show()"
      ],
      "metadata": {
        "colab": {
          "base_uri": "https://localhost:8080/"
        },
        "id": "DPtw4xhkBu-B",
        "outputId": "af17e299-5dc7-4c63-b6c0-4508a3c8035c"
      },
      "execution_count": 13,
      "outputs": [
        {
          "output_type": "stream",
          "name": "stdout",
          "text": [
            "+---------+----+----------+------+\n",
            "|     Name| age|Experience|Salary|\n",
            "+---------+----+----------+------+\n",
            "|   Dérick|  27|        10| 30000|\n",
            "|    Jamal|   3|         8| 25000|\n",
            "|Cleidiane|  32|         4|  2000|\n",
            "|    Sonia|  32|        21| 20000|\n",
            "|    Maura|  44|         4| 15000|\n",
            "|    Edson|  54|         5| 18000|\n",
            "|    Leona|NULL|      NULL| 40000|\n",
            "|     NULL|  33|        10| 38000|\n",
            "+---------+----+----------+------+\n",
            "\n"
          ]
        }
      ]
    },
    {
      "cell_type": "code",
      "source": [
        "##Subset\n",
        "df_pyspark.na.drop(how='any', subset=['Age']).show()"
      ],
      "metadata": {
        "colab": {
          "base_uri": "https://localhost:8080/"
        },
        "id": "UxWQGJipBvCl",
        "outputId": "c43db7a9-efda-4124-c600-9ca07e10906f"
      },
      "execution_count": 15,
      "outputs": [
        {
          "output_type": "stream",
          "name": "stdout",
          "text": [
            "+---------+---+----------+------+\n",
            "|     Name|age|Experience|Salary|\n",
            "+---------+---+----------+------+\n",
            "|   Dérick| 27|        10| 30000|\n",
            "|    Jamal|  3|         8| 25000|\n",
            "|Cleidiane| 32|         4|  2000|\n",
            "|    Sonia| 32|        21| 20000|\n",
            "|    Maura| 44|         4| 15000|\n",
            "|    Edson| 54|         5| 18000|\n",
            "|     NULL| 33|        10| 38000|\n",
            "|     NULL| 43|      NULL|  NULL|\n",
            "+---------+---+----------+------+\n",
            "\n"
          ]
        }
      ]
    },
    {
      "cell_type": "code",
      "source": [
        "### Filling the Missing Values\n",
        "df_pyspark.na.fill('Missing Values', ['Experience', 'age']).show()"
      ],
      "metadata": {
        "colab": {
          "base_uri": "https://localhost:8080/"
        },
        "id": "z0XhXi4rBvGt",
        "outputId": "1936096f-cffe-4030-ab34-7df827cc078d"
      },
      "execution_count": 20,
      "outputs": [
        {
          "output_type": "stream",
          "name": "stdout",
          "text": [
            "+---------+----+----------+------+\n",
            "|     Name| age|Experience|Salary|\n",
            "+---------+----+----------+------+\n",
            "|   Dérick|  27|        10| 30000|\n",
            "|    Jamal|   3|         8| 25000|\n",
            "|Cleidiane|  32|         4|  2000|\n",
            "|    Sonia|  32|        21| 20000|\n",
            "|    Maura|  44|         4| 15000|\n",
            "|    Edson|  54|         5| 18000|\n",
            "|    Leona|NULL|      NULL| 40000|\n",
            "|     NULL|  33|        10| 38000|\n",
            "|     NULL|  43|      NULL|  NULL|\n",
            "+---------+----+----------+------+\n",
            "\n"
          ]
        }
      ]
    },
    {
      "cell_type": "code",
      "source": [
        "df_pyspark.show()"
      ],
      "metadata": {
        "colab": {
          "base_uri": "https://localhost:8080/"
        },
        "id": "tBdzJCSaBvLP",
        "outputId": "d9abc3f6-4f44-4300-cae9-fa8b40601b08"
      },
      "execution_count": 22,
      "outputs": [
        {
          "output_type": "stream",
          "name": "stdout",
          "text": [
            "+---------+----+----------+------+\n",
            "|     Name| age|Experience|Salary|\n",
            "+---------+----+----------+------+\n",
            "|   Dérick|  27|        10| 30000|\n",
            "|    Jamal|   3|         8| 25000|\n",
            "|Cleidiane|  32|         4|  2000|\n",
            "|    Sonia|  32|        21| 20000|\n",
            "|    Maura|  44|         4| 15000|\n",
            "|    Edson|  54|         5| 18000|\n",
            "|    Leona|NULL|      NULL| 40000|\n",
            "|     NULL|  33|        10| 38000|\n",
            "|     NULL|  43|      NULL|  NULL|\n",
            "+---------+----+----------+------+\n",
            "\n"
          ]
        }
      ]
    },
    {
      "cell_type": "code",
      "source": [
        "from pyspark.ml.feature import Imputer\n",
        "\n",
        "imputer = Imputer(\n",
        "    inputCols=['age', 'Experience', 'Salary'],\n",
        "    outputCols=[\"{}_imputed\".format(c) for c in ['age', 'Experience', 'Salary']]\n",
        ").setStrategy(\"mean\")"
      ],
      "metadata": {
        "id": "wl70rZ3RBvPX"
      },
      "execution_count": 23,
      "outputs": []
    },
    {
      "cell_type": "code",
      "source": [
        "## Add imputation cols to df\n",
        "imputer.fit(df_pyspark).transform(df_pyspark).show()"
      ],
      "metadata": {
        "colab": {
          "base_uri": "https://localhost:8080/"
        },
        "id": "aXJ_Kb7KBvUg",
        "outputId": "1d7cb0bd-6a95-4398-c447-6c2c5c9fc8ac"
      },
      "execution_count": 24,
      "outputs": [
        {
          "output_type": "stream",
          "name": "stdout",
          "text": [
            "+---------+----+----------+------+-----------+------------------+--------------+\n",
            "|     Name| age|Experience|Salary|age_imputed|Experience_imputed|Salary_imputed|\n",
            "+---------+----+----------+------+-----------+------------------+--------------+\n",
            "|   Dérick|  27|        10| 30000|         27|                10|         30000|\n",
            "|    Jamal|   3|         8| 25000|          3|                 8|         25000|\n",
            "|Cleidiane|  32|         4|  2000|         32|                 4|          2000|\n",
            "|    Sonia|  32|        21| 20000|         32|                21|         20000|\n",
            "|    Maura|  44|         4| 15000|         44|                 4|         15000|\n",
            "|    Edson|  54|         5| 18000|         54|                 5|         18000|\n",
            "|    Leona|NULL|      NULL| 40000|         33|                 8|         40000|\n",
            "|     NULL|  33|        10| 38000|         33|                10|         38000|\n",
            "|     NULL|  43|      NULL|  NULL|         43|                 8|         23500|\n",
            "+---------+----+----------+------+-----------+------------------+--------------+\n",
            "\n"
          ]
        }
      ]
    }
  ]
}